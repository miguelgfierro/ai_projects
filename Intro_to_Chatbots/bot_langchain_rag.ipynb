{
 "cells": [
  {
   "cell_type": "markdown",
   "metadata": {},
   "source": [
    "# Retrieval Augmented Generation (RAG) with LangChain"
   ]
  },
  {
   "cell_type": "code",
   "execution_count": 2,
   "metadata": {},
   "outputs": [
    {
     "name": "stdout",
     "output_type": "stream",
     "text": [
      "LangChain version: 0.3.18\n"
     ]
    }
   ],
   "source": [
    "from dotenv import load_dotenv\n",
    "\n",
    "load_dotenv(dotenv_path=\"environment\")\n",
    "\n",
    "import os\n",
    "import tqdm as notebook_tqdm\n",
    "import langchain\n",
    "from langchain.document_loaders import TextLoader\n",
    "from langchain.text_splitter import RecursiveCharacterTextSplitter\n",
    "from langchain.embeddings.openai import OpenAIEmbeddings\n",
    "from langchain.vectorstores import FAISS\n",
    "from langchain.chains import RetrievalQA\n",
    "from langchain_openai import ChatOpenAI\n",
    "from langchain.callbacks import StdOutCallbackHandler\n",
    "\n",
    "print(f\"LangChain version: {langchain.__version__}\")\n",
    "\n"
   ]
  },
  {
   "cell_type": "code",
   "execution_count": 3,
   "metadata": {},
   "outputs": [],
   "source": [
    "text = os.path.join(\"data\", \"Alice_in_Wonderland.txt\")"
   ]
  },
  {
   "cell_type": "code",
   "execution_count": 4,
   "metadata": {},
   "outputs": [],
   "source": [
    "loader = TextLoader(file_path=text)"
   ]
  },
  {
   "cell_type": "code",
   "execution_count": 5,
   "metadata": {},
   "outputs": [
    {
     "data": {
      "text/plain": [
       "[Document(metadata={'source': 'data/Alice_in_Wonderland.txt'}, page_content=\"Title: Alice's Adventures in Wonderland\\n\\n\\nAuthor: Lewis Carroll\\n\\nRelease date: June 27, 2008 [eBook #11]\\n                Most recently updated: February 4, 2024\\n\\nLanguage: English\\n\\nCredits: Arthur DiBianca and David Widger\\n\\n\\n*** START OF THE PROJECT GUTENBERG EBOOK ALICE'S ADVENTURES IN WONDERLAND ***\\n[Illustration]\\n\\n\\n\\n\\nAlice’s Adventures in Wonderland\\n\\nby Lewis Carroll\\n\\nTHE MILLENNIUM FULCRUM EDITION 3.0\\n\\nContents\"),\n",
       " Document(metadata={'source': 'data/Alice_in_Wonderland.txt'}, page_content='CHAPTER I.     Down the Rabbit-Hole\\n CHAPTER II.    The Pool of Tears\\n CHAPTER III.   A Caucus-Race and a Long Tale\\n CHAPTER IV.    The Rabbit Sends in a Little Bill\\n CHAPTER V.     Advice from a Caterpillar\\n CHAPTER VI.    Pig and Pepper\\n CHAPTER VII.   A Mad Tea-Party\\n CHAPTER VIII.  The Queen’s Croquet-Ground\\n CHAPTER IX.    The Mock Turtle’s Story\\n CHAPTER X.     The Lobster Quadrille\\n CHAPTER XI.    Who Stole the Tarts?\\n CHAPTER XII.   Alice’s Evidence\\n\\n\\n\\n\\nCHAPTER I.\\nDown the Rabbit-Hole'),\n",
       " Document(metadata={'source': 'data/Alice_in_Wonderland.txt'}, page_content='Alice was beginning to get very tired of sitting by her sister on the\\nbank, and of having nothing to do: once or twice she had peeped into\\nthe book her sister was reading, but it had no pictures or\\nconversations in it, “and what is the use of a book,” thought Alice\\n“without pictures or conversations?”')]"
      ]
     },
     "execution_count": 5,
     "metadata": {},
     "output_type": "execute_result"
    }
   ],
   "source": [
    "text_splitter = RecursiveCharacterTextSplitter(chunk_size=500, chunk_overlap=0)\n",
    "data = loader.load_and_split(text_splitter=text_splitter)\n",
    "data[2:5]"
   ]
  },
  {
   "cell_type": "code",
   "execution_count": 6,
   "metadata": {},
   "outputs": [
    {
     "name": "stderr",
     "output_type": "stream",
     "text": [
      "/tmp/ipykernel_16968/3998137413.py:1: LangChainDeprecationWarning: The class `OpenAIEmbeddings` was deprecated in LangChain 0.0.9 and will be removed in 1.0. An updated version of the class exists in the :class:`~langchain-openai package and should be used instead. To use it run `pip install -U :class:`~langchain-openai` and import as `from :class:`~langchain_openai import OpenAIEmbeddings``.\n",
      "  embeddings = OpenAIEmbeddings(api_key=os.getenv(\"OPENAI_API_KEY\"), show_progress_bar=True)\n"
     ]
    }
   ],
   "source": [
    "embeddings = OpenAIEmbeddings(api_key=os.getenv(\"OPENAI_API_KEY\"), show_progress_bar=True)"
   ]
  },
  {
   "cell_type": "code",
   "execution_count": 7,
   "metadata": {},
   "outputs": [
    {
     "data": {
      "application/vnd.jupyter.widget-view+json": {
       "model_id": "f7b4e360c6e6437281aac09cc416a250",
       "version_major": 2,
       "version_minor": 0
      },
      "text/plain": [
       "  0%|          | 0/1 [00:00<?, ?it/s]"
      ]
     },
     "metadata": {},
     "output_type": "display_data"
    }
   ],
   "source": [
    "index = FAISS.from_documents(data, embeddings)"
   ]
  },
  {
   "cell_type": "code",
   "execution_count": 8,
   "metadata": {},
   "outputs": [
    {
     "data": {
      "application/vnd.jupyter.widget-view+json": {
       "model_id": "08b29aa9a0194f05a993fa0b1328d30a",
       "version_major": 2,
       "version_minor": 0
      },
      "text/plain": [
       "  0%|          | 0/1 [00:00<?, ?it/s]"
      ]
     },
     "metadata": {},
     "output_type": "display_data"
    },
    {
     "data": {
      "text/plain": [
       "[(Document(id='236f6557-c627-41a3-9709-00b3f2f96afb', metadata={'source': 'data/Alice_in_Wonderland.txt'}, page_content='“I could tell you my adventures—beginning from this morning,” said\\nAlice a little timidly: “but it’s no use going back to yesterday,\\nbecause I was a different person then.”\\n\\n“Explain all that,” said the Mock Turtle.\\n\\n“No, no! The adventures first,” said the Gryphon in an impatient tone:\\n“explanations take such a dreadful time.”'),\n",
       "  0.7084195461913874),\n",
       " (Document(id='3ea1bd89-6a4a-4c7a-a59b-627135ddc102', metadata={'source': 'data/Alice_in_Wonderland.txt'}, page_content='coming back to finish his story.'),\n",
       "  0.6692098061860963),\n",
       " (Document(id='487973d3-6955-4384-b601-dab52d1bb397', metadata={'source': 'data/Alice_in_Wonderland.txt'}, page_content='“You ought to be ashamed of yourself for asking such a simple\\nquestion,” added the Gryphon; and then they both sat silent and looked\\nat poor Alice, who felt ready to sink into the earth. At last the\\nGryphon said to the Mock Turtle, “Drive on, old fellow! Don’t be all\\nday about it!” and he went on in these words:\\n\\n“Yes, we went to school in the sea, though you mayn’t believe it—”\\n\\n“I never said I didn’t!” interrupted Alice.\\n\\n“You did,” said the Mock Turtle.'),\n",
       "  0.6589597347750954),\n",
       " (Document(id='4d1b193a-1f74-46cf-b6ac-46ac361b7f01', metadata={'source': 'data/Alice_in_Wonderland.txt'}, page_content='Alice thought she might as well go back, and see how the game was going\\non, as she heard the Queen’s voice in the distance, screaming with\\npassion. She had already heard her sentence three of the players to be\\nexecuted for having missed their turns, and she did not like the look\\nof things at all, as the game was in such confusion that she never knew\\nwhether it was her turn or not. So she went in search of her hedgehog.'),\n",
       "  0.6586205580117039)]"
      ]
     },
     "execution_count": 8,
     "metadata": {},
     "output_type": "execute_result"
    }
   ],
   "source": [
    "query = \"Should people go back to yesterday?\"\n",
    "index.similarity_search_with_relevance_scores(query)"
   ]
  },
  {
   "cell_type": "code",
   "execution_count": 9,
   "metadata": {},
   "outputs": [],
   "source": [
    "retriever = index.as_retriever()\n",
    "retriever.search_kwargs['fetch_k'] = 20\n",
    "retriever.search_kwargs['maximal_marginal_relevance'] = True\n",
    "retriever.search_kwargs['k'] = 10"
   ]
  },
  {
   "cell_type": "code",
   "execution_count": 10,
   "metadata": {},
   "outputs": [],
   "source": [
    "llm = ChatOpenAI(api_key=os.getenv(\"OPENAI_API_KEY\"))"
   ]
  },
  {
   "cell_type": "code",
   "execution_count": 11,
   "metadata": {},
   "outputs": [
    {
     "name": "stdout",
     "output_type": "stream",
     "text": [
      "\n",
      "\n",
      "\u001b[1m> Entering new RetrievalQA chain...\u001b[0m\n"
     ]
    },
    {
     "data": {
      "application/vnd.jupyter.widget-view+json": {
       "model_id": "dfe3f99942ec40b7a1a10b0814524a62",
       "version_major": 2,
       "version_minor": 0
      },
      "text/plain": [
       "  0%|          | 0/1 [00:00<?, ?it/s]"
      ]
     },
     "metadata": {},
     "output_type": "display_data"
    },
    {
     "name": "stdout",
     "output_type": "stream",
     "text": [
      "\n",
      "\n",
      "\u001b[1m> Entering new StuffDocumentsChain chain...\u001b[0m\n",
      "\n",
      "\n",
      "\u001b[1m> Entering new LLMChain chain...\u001b[0m\n",
      "Prompt after formatting:\n",
      "\u001b[32;1m\u001b[1;3mSystem: Use the following pieces of context to answer the user's question. \n",
      "If you don't know the answer, just say that you don't know, don't try to make up an answer.\n",
      "----------------\n",
      "“I could tell you my adventures—beginning from this morning,” said\n",
      "Alice a little timidly: “but it’s no use going back to yesterday,\n",
      "because I was a different person then.”\n",
      "\n",
      "“Explain all that,” said the Mock Turtle.\n",
      "\n",
      "“No, no! The adventures first,” said the Gryphon in an impatient tone:\n",
      "“explanations take such a dreadful time.”\n",
      "\n",
      "coming back to finish his story.\n",
      "\n",
      "“You ought to be ashamed of yourself for asking such a simple\n",
      "question,” added the Gryphon; and then they both sat silent and looked\n",
      "at poor Alice, who felt ready to sink into the earth. At last the\n",
      "Gryphon said to the Mock Turtle, “Drive on, old fellow! Don’t be all\n",
      "day about it!” and he went on in these words:\n",
      "\n",
      "“Yes, we went to school in the sea, though you mayn’t believe it—”\n",
      "\n",
      "“I never said I didn’t!” interrupted Alice.\n",
      "\n",
      "“You did,” said the Mock Turtle.\n",
      "\n",
      "Alice thought she might as well go back, and see how the game was going\n",
      "on, as she heard the Queen’s voice in the distance, screaming with\n",
      "passion. She had already heard her sentence three of the players to be\n",
      "executed for having missed their turns, and she did not like the look\n",
      "of things at all, as the game was in such confusion that she never knew\n",
      "whether it was her turn or not. So she went in search of her hedgehog.\n",
      "\n",
      "Alice took up the fan and gloves, and, as the hall was very hot, she\n",
      "kept fanning herself all the time she went on talking: “Dear, dear! How\n",
      "queer everything is to-day! And yesterday things went on just as usual.\n",
      "I wonder if I’ve been changed in the night? Let me think: was I the\n",
      "same when I got up this morning? I almost think I can remember feeling\n",
      "a little different. But if I’m not the same, the next question is, Who\n",
      "in the world am I? Ah, _that’s_ the great puzzle!” And she began\n",
      "\n",
      "they were nowhere to be seen—everything seemed to have changed since\n",
      "her swim in the pool, and the great hall, with the glass table and the\n",
      "little door, had vanished completely.\n",
      "\n",
      "“In my youth,” Father William replied to his son,\n",
      "    “I feared it might injure the brain;\n",
      "But, now that I’m perfectly sure I have none,\n",
      "    Why, I do it again and again.”\n",
      "\n",
      "“You are old,” said the youth, “as I mentioned before,\n",
      "    And have grown most uncommonly fat;\n",
      "Yet you turned a back-somersault in at the door—\n",
      "    Pray, what is the reason of that?”\n",
      "\n",
      "“It was much pleasanter at home,” thought poor Alice, “when one wasn’t\n",
      "always growing larger and smaller, and being ordered about by mice and\n",
      "rabbits. I almost wish I hadn’t gone down that rabbit-hole—and yet—and\n",
      "yet—it’s rather curious, you know, this sort of life! I do wonder what\n",
      "_can_ have happened to me! When I used to read fairy-tales, I fancied\n",
      "that kind of thing never happened, and now here I am in the middle of\n",
      "one! There ought to be a book written about me, that there ought! And\n",
      "\n",
      "This question the Dodo could not answer without a great deal of\n",
      "thought, and it sat for a long time with one finger pressed upon its\n",
      "forehead (the position in which you usually see Shakespeare, in the\n",
      "pictures of him), while the rest waited in silence. At last the Dodo\n",
      "said, “_Everybody_ has won, and all must have prizes.”\n",
      "\n",
      "“But who is to give the prizes?” quite a chorus of voices asked.\n",
      "\n",
      "This speech caused a remarkable sensation among the party. Some of the\n",
      "birds hurried off at once: one old Magpie began wrapping itself up very\n",
      "carefully, remarking, “I really must be getting home; the night-air\n",
      "doesn’t suit my throat!” and a Canary called out in a trembling voice\n",
      "to its children, “Come away, my dears! It’s high time you were all in\n",
      "bed!” On various pretexts they all moved off, and Alice was soon left\n",
      "alone.\n",
      "Human: Should people go back to yesterday?\u001b[0m\n",
      "\n",
      "\u001b[1m> Finished chain.\u001b[0m\n",
      "\n",
      "\u001b[1m> Finished chain.\u001b[0m\n",
      "\n",
      "\u001b[1m> Finished chain.\u001b[0m\n",
      "No, people should not go back to yesterday because, as Alice expressed in the story, she was a different person then. The characters in the text seemed to stress the importance of moving forward and focusing on the present rather than dwelling on the past.\n"
     ]
    }
   ],
   "source": [
    "chain = RetrievalQA.from_chain_type(\n",
    "    llm=llm,\n",
    "    retriever=retriever,\n",
    "    verbose=True\n",
    ")\n",
    "\n",
    "handler = StdOutCallbackHandler()\n",
    "response = chain.invoke({\"query\": query}, config={\"callbacks\": [handler]})\n",
    "print(response[\"result\"])"
   ]
  },
  {
   "cell_type": "code",
   "execution_count": 12,
   "metadata": {},
   "outputs": [
    {
     "name": "stdout",
     "output_type": "stream",
     "text": [
      "\n",
      "\n",
      "\u001b[1m> Entering new RetrievalQA chain...\u001b[0m\n"
     ]
    },
    {
     "data": {
      "application/vnd.jupyter.widget-view+json": {
       "model_id": "437349b0fcf942d6adf1fc7e47f18c41",
       "version_major": 2,
       "version_minor": 0
      },
      "text/plain": [
       "  0%|          | 0/1 [00:00<?, ?it/s]"
      ]
     },
     "metadata": {},
     "output_type": "display_data"
    },
    {
     "name": "stdout",
     "output_type": "stream",
     "text": [
      "\n",
      "\n",
      "\u001b[1m> Entering new StuffDocumentsChain chain...\u001b[0m\n",
      "\n",
      "\n",
      "\u001b[1m> Entering new LLMChain chain...\u001b[0m\n",
      "Prompt after formatting:\n",
      "\u001b[32;1m\u001b[1;3mSystem: Use the following pieces of context to answer the user's question. \n",
      "If you don't know the answer, just say that you don't know, don't try to make up an answer.\n",
      "----------------\n",
      "“That depends a good deal on where you want to get to,” said the Cat.\n",
      "\n",
      "“I don’t much care where—” said Alice.\n",
      "\n",
      "“Then it doesn’t matter which way you go,” said the Cat.\n",
      "\n",
      "“—so long as I get _somewhere_,” Alice added as an explanation.\n",
      "\n",
      "“Oh, you’re sure to do that,” said the Cat, “if you only walk long\n",
      "enough.”\n",
      "\n",
      "Alice felt that this could not be denied, so she tried another\n",
      "question. “What sort of people live about here?”\n",
      "\n",
      "“The first thing I’ve got to do,” said Alice to herself, as she\n",
      "wandered about in the wood, “is to grow to my right size again; and the\n",
      "second thing is to find my way into that lovely garden. I think that\n",
      "will be the best plan.”\n",
      "\n",
      "There were doors all round the hall, but they were all locked; and when\n",
      "Alice had been all the way down one side and up the other, trying every\n",
      "door, she walked sadly down the middle, wondering how she was ever to\n",
      "get out again.\n",
      "\n",
      "“In _that_ direction,” the Cat said, waving its right paw round, “lives\n",
      "a Hatter: and in _that_ direction,” waving the other paw, “lives a\n",
      "March Hare. Visit either you like: they’re both mad.”\n",
      "\n",
      "“But I don’t want to go among mad people,” Alice remarked.\n",
      "\n",
      "“Oh, you can’t help that,” said the Cat: “we’re all mad here. I’m mad.\n",
      "You’re mad.”\n",
      "\n",
      "“How do you know I’m mad?” said Alice.\n",
      "\n",
      "“You must be,” said the Cat, “or you wouldn’t have come here.”\n",
      "\n",
      "“What matters it how far we go?” his scaly friend replied.\n",
      "“There is another shore, you know, upon the other side.\n",
      "The further off from England the nearer is to France—\n",
      "Then turn not pale, beloved snail, but come and join the dance.\n",
      "Will you, won’t you, will you, won’t you, will you join the dance?\n",
      "Will you, won’t you, will you, won’t you, won’t you join the dance?”\n",
      "\n",
      "Alice opened the door and found that it led into a small passage, not\n",
      "much larger than a rat-hole: she knelt down and looked along the\n",
      "passage into the loveliest garden you ever saw. How she longed to get\n",
      "out of that dark hall, and wander about among those beds of bright\n",
      "flowers and those cool fountains, but she could not even get her head\n",
      "through the doorway; “and even if my head would go through,” thought\n",
      "poor Alice, “it would be of very little use without my shoulders. Oh,\n",
      "\n",
      "In another moment down went Alice after it, never once considering how\n",
      "in the world she was to get out again.\n",
      "\n",
      "The rabbit-hole went straight on like a tunnel for some way, and then\n",
      "dipped suddenly down, so suddenly that Alice had not a moment to think\n",
      "about stopping herself before she found herself falling down a very\n",
      "deep well.\n",
      "\n",
      "The great question certainly was, what? Alice looked all round her at\n",
      "the flowers and the blades of grass, but she did not see anything that\n",
      "looked like the right thing to eat or drink under the circumstances.\n",
      "There was a large mushroom growing near her, about the same height as\n",
      "herself; and when she had looked under it, and on both sides of it, and\n",
      "behind it, it occurred to her that she might as well look and see what\n",
      "was on the top of it.\n",
      "\n",
      "practice to say it over) “—yes, that’s about the right distance—but\n",
      "then I wonder what Latitude or Longitude I’ve got to?” (Alice had no\n",
      "idea what Latitude was, or Longitude either, but thought they were nice\n",
      "grand words to say.)\n",
      "\n",
      "She ate a little bit, and said anxiously to herself, “Which way? Which\n",
      "way?”, holding her hand on the top of her head to feel which way it was\n",
      "growing, and she was quite surprised to find that she remained the same\n",
      "size: to be sure, this generally happens when one eats cake, but Alice\n",
      "had got so much into the way of expecting nothing but out-of-the-way\n",
      "things to happen, that it seemed quite dull and stupid for life to go\n",
      "on in the common way.\n",
      "Human: What path should you take if you don't know where you are going?\u001b[0m\n",
      "\n",
      "\u001b[1m> Finished chain.\u001b[0m\n",
      "\n",
      "\u001b[1m> Finished chain.\u001b[0m\n",
      "\n",
      "\u001b[1m> Finished chain.\u001b[0m\n",
      "If you don't know where you want to go, as in the conversation between Alice and the Cat, any path will lead you somewhere as long as you keep moving forward. It doesn't matter which way you go if you are not aiming for a specific destination. Just keep walking until you reach somewhere.\n"
     ]
    }
   ],
   "source": [
    "query = \"What path should you take if you don't know where you are going?\"\n",
    "response = chain.invoke({\"query\": query}, config={\"callbacks\": [handler]})\n",
    "print(response[\"result\"])"
   ]
  }
 ],
 "metadata": {
  "kernelspec": {
   "display_name": "ie",
   "language": "python",
   "name": "python3"
  },
  "language_info": {
   "codemirror_mode": {
    "name": "ipython",
    "version": 3
   },
   "file_extension": ".py",
   "mimetype": "text/x-python",
   "name": "python",
   "nbconvert_exporter": "python",
   "pygments_lexer": "ipython3",
   "version": "3.9.21"
  }
 },
 "nbformat": 4,
 "nbformat_minor": 2
}
